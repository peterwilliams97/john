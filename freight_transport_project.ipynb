{
 "metadata": {
  "name": "freight_transport_project"
 },
 "nbformat": 3,
 "nbformat_minor": 0,
 "worksheets": [
  {
   "cells": [
    {
     "cell_type": "markdown",
     "metadata": {},
     "source": [
      "Freight Transport Project\n",
      "==============\n",
      "by _John Williams_ \n",
      "\n",
      "on the web at [http://bit.ly/john_freight](http://bit.ly/john_freight)\n",
      "\n",
      "Cross-section of a container ship\n",
      "---------------------------------\n",
      "![Cargo](files/800px-General_cargo_ship_midship_section_english.png)\n",
      "\n",
      "[Source](http://commons.wikimedia.org/wiki/File:General_cargo_ship_midship_section_english.png)\n"
     ]
    },
    {
     "cell_type": "markdown",
     "metadata": {},
     "source": [
      "***\n",
      "Investigation\n",
      "---\n",
      "[cross section of container ship](https://www.google.com.au/search?as_st=y&tbm=isch&hl=en&as_q=cross+section+of++container+ship&as_epq=&as_oq=&as_eq=&cr=&as_sitesearch=&safe=images&tbs=sur:f&biw=1335&bih=808&sei=ltylUbCaAuujigek0YHQBQQ)\n",
      "\n",
      "$e^{i\\pi} + 1 = 0$ \n",
      "\n",
      "$$e^x=\\sum_{i=0}^\\infty \\frac{1}{i!}x^i$$\n",
      "\n",
      "$\\frac{1}{2} = 0.5$"
     ]
    },
    {
     "cell_type": "markdown",
     "metadata": {},
     "source": [
      "***\n",
      "Making of this Web Page\n",
      "---\n",
      "* How this web page was [made](https://github.com/peterwilliams97/john/blob/master/README.md)"
     ]
    }
   ],
   "metadata": {}
  }
 ]
}