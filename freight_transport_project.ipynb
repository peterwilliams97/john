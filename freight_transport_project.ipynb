{
 "metadata": {
  "name": "freight_transport_project"
 },
 "nbformat": 3,
 "nbformat_minor": 0,
 "worksheets": [
  {
   "cells": [
    {
     "cell_type": "markdown",
     "metadata": {},
     "source": [
      "Freight Transport Project\n",
      "==============\n",
      "by _John Williams_ \n",
      "\n",
      "on the web at [http://bit.ly/john_freight](http://bit.ly/john_freight)\n",
      "\n",
      "cross section\n",
      "=============\n",
      "\n",
      "![sketch2](files/cropped_ship2.jpg)\n",
      "\n",
      "This is a handysize bulk carrier. A handysize bulk carrier can carry up to 35,000 DWT (that's 35,000,000 kg) this one weighs 6000 tonnes (rough estimate)\n",
      "\n",
      "\n",
      "![lego](files/lego_ship.png)\n",
      "\n",
      "shipping route\n",
      "=============\n",
      "\n",
      "![map](files/shipping_route.png)\n",
      "\n",
      " the name of my company is \"Giovanni spruzzata incorporato\" we sell exquisite paintings we ship our paintings to new jersey from italy by ship.We make all our tools for painting  eg,paintbrush,watercolur,canvas and many others they cost and extra fee and the ability to cut your own ear off (joke or maybe not 'dun dun dunnnnnn')\n",
      "\n",
      "\n"
     ]
    },
    {
     "cell_type": "markdown",
     "metadata": {},
     "source": [
      "***\n",
      "Making of this Web Page\n",
      "---\n",
      "* How this web page was [made](https://github.com/peterwilliams97/john/blob/master/README.md)"
     ]
    }
   ],
   "metadata": {}
  }
 ]
}