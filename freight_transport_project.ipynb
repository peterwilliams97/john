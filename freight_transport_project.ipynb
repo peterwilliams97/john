{
 "metadata": {
  "name": "freight_transport_project"
 },
 "nbformat": 3,
 "nbformat_minor": 0,
 "worksheets": [
  {
   "cells": [
    {
     "cell_type": "markdown",
     "metadata": {},
     "source": [
      "Freight Transport Project\n",
      "==============\n",
      "by _John Williams_ \n",
      "\n",
      "on the web at [http://bit.ly/john_freight](http://bit.ly/john_freight)\n",
      "\n",
      "cross section\n",
      "=============\n",
      "\n",
      "![sketch2](files/cropped_ship2.jpg)\n",
      "\n",
      "This is a bulk carrier.\n",
      "\n"
     ]
    },
    {
     "cell_type": "markdown",
     "metadata": {},
     "source": [
      "***\n",
      "Making of this Web Page\n",
      "---\n",
      "* How this web page was [made](https://github.com/peterwilliams97/john/blob/master/README.md)"
     ]
    }
   ],
   "metadata": {}
  }
 ]
}