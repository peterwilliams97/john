{
 "metadata": {
  "name": "freight_transport_project"
 },
 "nbformat": 3,
 "nbformat_minor": 0,
 "worksheets": [
  {
   "cells": [
    {
     "cell_type": "markdown",
     "metadata": {},
     "source": [
      "Freight Transport Project\n",
      "==============\n",
      "by _John Williams_ \n",
      "\n",
      "on the web at [http://bit.ly/john_freight](http://bit.ly/john_freight)\n",
      "\n",
      "cross section\n",
      "=============\n",
      "\n",
      "![sketch](files/john_ship_sketch2.jpg)\n"
     ]
    },
    {
     "cell_type": "markdown",
     "metadata": {},
     "source": [
      "***\n",
      "Making of this Web Page\n",
      "---\n",
      "* How this web page was [made](https://github.com/peterwilliams97/john/blob/master/README.md)"
     ]
    }
   ],
   "metadata": {}
  }
 ]
}