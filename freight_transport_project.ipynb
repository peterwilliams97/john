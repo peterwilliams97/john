{
 "metadata": {
  "name": "freight_transport_project"
 },
 "nbformat": 3,
 "nbformat_minor": 0,
 "worksheets": [
  {
   "cells": [
    {
     "cell_type": "markdown",
     "metadata": {},
     "source": [
      "Freight Transport Project\n",
      "==============\n",
      "by John Williams ![John](john.jpg)\n",
      "\n",
      "\n"
     ]
    },
    {
     "cell_type": "markdown",
     "metadata": {},
     "source": [
      "***\n",
      "Making of Web Page\n",
      "---\n",
      "* How web page was [made](https://github.com/peterwilliams97/john/blob/master/README.md)\n",
      "* [Source code](https://github.com/peterwilliams97/john/blob/master/freight_transport_project.ipynb)"
     ]
    }
   ],
   "metadata": {}
  }
 ]
}