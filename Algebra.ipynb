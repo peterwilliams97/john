{
 "metadata": {
  "name": "Algebra"
 },
 "nbformat": 3,
 "nbformat_minor": 0,
 "worksheets": [
  {
   "cells": [
    {
     "cell_type": "code",
     "collapsed": false,
     "input": [
      "1 * 3, 2 * 2 - 1"
     ],
     "language": "python",
     "metadata": {},
     "outputs": [
      {
       "output_type": "pyout",
       "prompt_number": 2,
       "text": [
        "(3, 3)"
       ]
      }
     ],
     "prompt_number": 2
    },
    {
     "cell_type": "code",
     "collapsed": false,
     "input": [
      "2 * 4, 3 * 5 - 1"
     ],
     "language": "python",
     "metadata": {},
     "outputs": [
      {
       "output_type": "pyout",
       "prompt_number": 3,
       "text": [
        "(8, 14)"
       ]
      }
     ],
     "prompt_number": 3
    },
    {
     "cell_type": "code",
     "collapsed": false,
     "input": [
      "3 * 5, 4 * 4 - 1"
     ],
     "language": "python",
     "metadata": {},
     "outputs": [
      {
       "output_type": "pyout",
       "prompt_number": 4,
       "text": [
        "(15, 15)"
       ]
      }
     ],
     "prompt_number": 4
    },
    {
     "cell_type": "code",
     "collapsed": false,
     "input": [
      "4 * 6, 5 * 5 - 1"
     ],
     "language": "python",
     "metadata": {},
     "outputs": [
      {
       "output_type": "pyout",
       "prompt_number": 5,
       "text": [
        "(24, 24)"
       ]
      }
     ],
     "prompt_number": 5
    },
    {
     "cell_type": "heading",
     "level": 4,
     "metadata": {},
     "source": [
      "Is there a pattern?"
     ]
    },
    {
     "cell_type": "code",
     "collapsed": false,
     "input": [
      "def calculate_both(n):\n",
      "    \"\"\"Calculate and return\n",
      "        (n + 1) * (n - 1)\n",
      "        n * n - 1\n",
      "    \"\"\"\n",
      "    a = (n + 1) * (n - 1)\n",
      "    b = n * n - 1\n",
      "    return a, b\n",
      "\n",
      "# Print both calculation for n = 1..10\n",
      "for n in range(1, 11):\n",
      "    a, b = calculate_both(n)\n",
      "    print a, b"
     ],
     "language": "python",
     "metadata": {},
     "outputs": [
      {
       "output_type": "stream",
       "stream": "stdout",
       "text": [
        "0 0\n",
        "3 3\n",
        "8 8\n",
        "15 15\n",
        "24 24\n",
        "35 35\n",
        "48 48\n",
        "63 63\n",
        "80 80\n",
        "99 99\n"
       ]
      }
     ],
     "prompt_number": 13
    },
    {
     "cell_type": "code",
     "collapsed": false,
     "input": [
      "for n in range(100):\n",
      "    a, b = calculate_both(n)\n",
      "    assert a == b"
     ],
     "language": "python",
     "metadata": {},
     "outputs": [],
     "prompt_number": 12
    },
    {
     "cell_type": "markdown",
     "metadata": {},
     "source": [
      "(n + 1) * (n - 1) \n",
      "\n",
      "= n * (n + 1) - 1 * (n + 1) \n",
      "\n",
      "= n * n + n - n - 1\n",
      "\n",
      "= n * n - 1\n",
      "\n"
     ]
    }
   ],
   "metadata": {}
  }
 ]
}