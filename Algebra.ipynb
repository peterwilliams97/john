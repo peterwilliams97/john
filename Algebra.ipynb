{
 "metadata": {
  "name": "Algebra"
 },
 "nbformat": 3,
 "nbformat_minor": 0,
 "worksheets": [
  {
   "cells": [
    {
     "cell_type": "heading",
     "level": 4,
     "metadata": {},
     "source": [
      "Let's try multiplying some numbers in two different ways."
     ]
    },
    {
     "cell_type": "code",
     "collapsed": false,
     "input": [
      "1 * 3, 2 * 2 - 1"
     ],
     "language": "python",
     "metadata": {},
     "outputs": [
      {
       "output_type": "pyout",
       "prompt_number": 7,
       "text": [
        "(3, 3)"
       ]
      }
     ],
     "prompt_number": 7
    },
    {
     "cell_type": "code",
     "collapsed": false,
     "input": [
      "2 * 4, 3 * 3 - 1"
     ],
     "language": "python",
     "metadata": {},
     "outputs": [
      {
       "output_type": "pyout",
       "prompt_number": 8,
       "text": [
        "(8, 8)"
       ]
      }
     ],
     "prompt_number": 8
    },
    {
     "cell_type": "code",
     "collapsed": false,
     "input": [
      "3 * 5, 4 * 4 - 1"
     ],
     "language": "python",
     "metadata": {},
     "outputs": [
      {
       "output_type": "pyout",
       "prompt_number": 9,
       "text": [
        "(15, 15)"
       ]
      }
     ],
     "prompt_number": 9
    },
    {
     "cell_type": "code",
     "collapsed": false,
     "input": [
      "4 * 6, 5 * 5 - 1"
     ],
     "language": "python",
     "metadata": {},
     "outputs": [
      {
       "output_type": "pyout",
       "prompt_number": 10,
       "text": [
        "(24, 24)"
       ]
      }
     ],
     "prompt_number": 10
    },
    {
     "cell_type": "heading",
     "level": 4,
     "metadata": {},
     "source": [
      "Is there a pattern?"
     ]
    },
    {
     "cell_type": "code",
     "collapsed": false,
     "input": [
      "def calculate_both(n):\n",
      "    \"\"\"Calculate and return\n",
      "        (n + 1) * (n - 1)\n",
      "        n * n - 1\n",
      "    \"\"\"\n",
      "    a = (n + 1) * (n - 1)\n",
      "    b = n * n - 1\n",
      "    return a, b\n",
      "\n",
      "# Print both calculations for n = 1..10\n",
      "for n in range(1, 11):\n",
      "    a, b = calculate_both(n)\n",
      "    print a, b"
     ],
     "language": "python",
     "metadata": {},
     "outputs": [
      {
       "output_type": "stream",
       "stream": "stdout",
       "text": [
        "0 0\n",
        "3 3\n",
        "8 8\n",
        "15 15\n",
        "24 24\n",
        "35 35\n",
        "48 48\n",
        "63 63\n",
        "80 80\n",
        "99 99\n"
       ]
      }
     ],
     "prompt_number": 11
    },
    {
     "cell_type": "heading",
     "level": 3,
     "metadata": {},
     "source": [
      "Test that the relation holds"
     ]
    },
    {
     "cell_type": "code",
     "collapsed": false,
     "input": [
      "for n in range(100):\n",
      "    a, b = calculate_both(n)\n",
      "    assert a == b"
     ],
     "language": "python",
     "metadata": {},
     "outputs": [],
     "prompt_number": 12
    },
    {
     "cell_type": "markdown",
     "metadata": {},
     "source": [
      "### The algrebra\n",
      "\n",
      "(n + 1) * (n - 1) \n",
      "\n",
      "= n * (n + 1) - 1 * (n + 1) \n",
      "\n",
      "= n * n + n - n - 1\n",
      "\n",
      "= n * n - 1\n",
      "\n"
     ]
    },
    {
     "cell_type": "markdown",
     "metadata": {},
     "source": [
      "***\n",
      "Making of this Web Page\n",
      "---\n",
      "* How this web page was [made](https://github.com/peterwilliams97/john/blob/master/README.md)"
     ]
    }
   ],
   "metadata": {}
  }
 ]
}