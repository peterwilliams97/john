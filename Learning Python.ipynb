{
 "metadata": {
  "name": ""
 },
 "nbformat": 3,
 "nbformat_minor": 0,
 "worksheets": [
  {
   "cells": [
    {
     "cell_type": "code",
     "collapsed": false,
     "input": [
      "name = 'John'\n",
      "print 'Hello', name"
     ],
     "language": "python",
     "metadata": {},
     "outputs": [
      {
       "output_type": "stream",
       "stream": "stdout",
       "text": [
        "Hello John\n"
       ]
      }
     ],
     "prompt_number": 1
    },
    {
     "cell_type": "code",
     "collapsed": false,
     "input": [
      "name = 'Peter'\n",
      "print 'Hello', name"
     ],
     "language": "python",
     "metadata": {},
     "outputs": [
      {
       "output_type": "stream",
       "stream": "stdout",
       "text": [
        "Hello Peter\n"
       ]
      }
     ],
     "prompt_number": 2
    },
    {
     "cell_type": "markdown",
     "metadata": {},
     "source": [
      "Make a Python function to say hello"
     ]
    },
    {
     "cell_type": "code",
     "collapsed": false,
     "input": [
      "def hello(name):\n",
      "    print 'Hello', name"
     ],
     "language": "python",
     "metadata": {},
     "outputs": [],
     "prompt_number": 3
    },
    {
     "cell_type": "code",
     "collapsed": false,
     "input": [
      "hello('Madeline')\n",
      "hello('Mum')"
     ],
     "language": "python",
     "metadata": {},
     "outputs": [
      {
       "output_type": "stream",
       "stream": "stdout",
       "text": [
        "Hello Madeline\n",
        "Hello Mum\n"
       ]
      }
     ],
     "prompt_number": 5
    },
    {
     "cell_type": "code",
     "collapsed": false,
     "input": [
      "for name in ['Madeline', 'Molly', 'Mum']:\n",
      "    hello(name)"
     ],
     "language": "python",
     "metadata": {},
     "outputs": [
      {
       "output_type": "stream",
       "stream": "stdout",
       "text": [
        "Hello Madeline\n",
        "Hello Molly\n",
        "Hello Mum\n"
       ]
      }
     ],
     "prompt_number": 6
    },
    {
     "cell_type": "code",
     "collapsed": false,
     "input": [
      "def make_person(name, age):\n",
      "    return {'name': name, 'age': age}\n",
      "\n",
      "def describe(person):\n",
      "    print person['name'], 'is', person['age'], 'years old' "
     ],
     "language": "python",
     "metadata": {},
     "outputs": [],
     "prompt_number": 7
    },
    {
     "cell_type": "code",
     "collapsed": false,
     "input": [
      "j = make_person('John', 11)\n",
      "m = make_person('Madeline', 9)\n",
      "c = make_person('Catherine', 48)\n",
      "p = make_person('Peter', 54)\n",
      "\n",
      "j, m"
     ],
     "language": "python",
     "metadata": {},
     "outputs": [
      {
       "metadata": {},
       "output_type": "pyout",
       "prompt_number": 25,
       "text": [
        "({'age': 11, 'name': 'John'}, {'age': 9, 'name': 'Madeline'})"
       ]
      }
     ],
     "prompt_number": 25
    },
    {
     "cell_type": "code",
     "collapsed": false,
     "input": [
      "describe(j)\n",
      "describe(m)"
     ],
     "language": "python",
     "metadata": {},
     "outputs": [
      {
       "output_type": "stream",
       "stream": "stdout",
       "text": [
        "John is 11 years old\n",
        "Madeline is 9 years old\n"
       ]
      }
     ],
     "prompt_number": 26
    },
    {
     "cell_type": "code",
     "collapsed": false,
     "input": [
      "def born(person):\n",
      "   print person['name'], 'was born in', 2013 - person['age']      "
     ],
     "language": "python",
     "metadata": {},
     "outputs": [],
     "prompt_number": 27
    },
    {
     "cell_type": "code",
     "collapsed": false,
     "input": [
      "born(j)\n",
      "born(m)"
     ],
     "language": "python",
     "metadata": {},
     "outputs": [
      {
       "output_type": "stream",
       "stream": "stdout",
       "text": [
        "John was born in 2002\n",
        "Madeline was born in 2004\n"
       ]
      }
     ],
     "prompt_number": 28
    },
    {
     "cell_type": "code",
     "collapsed": false,
     "input": [
      "import pandas as pd\n",
      "family = pd.DataFrame([j, m, c, p])\n",
      "family"
     ],
     "language": "python",
     "metadata": {},
     "outputs": [
      {
       "html": [
        "<div style=\"max-height:1000px;max-width:1500px;overflow:auto;\">\n",
        "<table border=\"1\" class=\"dataframe\">\n",
        "  <thead>\n",
        "    <tr style=\"text-align: right;\">\n",
        "      <th></th>\n",
        "      <th>age</th>\n",
        "      <th>name</th>\n",
        "    </tr>\n",
        "  </thead>\n",
        "  <tbody>\n",
        "    <tr>\n",
        "      <th>0</th>\n",
        "      <td> 11</td>\n",
        "      <td>      John</td>\n",
        "    </tr>\n",
        "    <tr>\n",
        "      <th>1</th>\n",
        "      <td>  9</td>\n",
        "      <td>  Madeline</td>\n",
        "    </tr>\n",
        "    <tr>\n",
        "      <th>2</th>\n",
        "      <td> 48</td>\n",
        "      <td> Catherine</td>\n",
        "    </tr>\n",
        "    <tr>\n",
        "      <th>3</th>\n",
        "      <td> 54</td>\n",
        "      <td>     Peter</td>\n",
        "    </tr>\n",
        "  </tbody>\n",
        "</table>\n",
        "<p>4 rows \u00d7 2 columns</p>\n",
        "</div>"
       ],
       "metadata": {},
       "output_type": "pyout",
       "prompt_number": 31,
       "text": [
        "   age       name\n",
        "0   11       John\n",
        "1    9   Madeline\n",
        "2   48  Catherine\n",
        "3   54      Peter\n",
        "\n",
        "[4 rows x 2 columns]"
       ]
      }
     ],
     "prompt_number": 31
    },
    {
     "cell_type": "code",
     "collapsed": false,
     "input": [
      "family.to_csv('family.csv')"
     ],
     "language": "python",
     "metadata": {},
     "outputs": [],
     "prompt_number": 32
    },
    {
     "cell_type": "code",
     "collapsed": false,
     "input": [
      "ls"
     ],
     "language": "python",
     "metadata": {},
     "outputs": [
      {
       "output_type": "stream",
       "stream": "stdout",
       "text": [
        " Volume in drive D is SSD\n",
        " Volume Serial Number is 048D-9616\n",
        "\n",
        " Directory of D:\\peter.dev\\John\n",
        "\n",
        "02/14/2014  03:50 PM    <DIR>          .\n",
        "02/14/2014  03:50 PM    <DIR>          ..\n",
        "02/14/2014  03:37 PM    <DIR>          .git\n",
        "02/14/2014  03:37 PM               303 .gitignore\n",
        "02/14/2014  03:37 PM            14,846 800px-General_cargo_ship_midship_section_english.png\n",
        "02/14/2014  03:37 PM             3,932 Algebra.ipynb\n",
        "02/14/2014  03:37 PM           710,859 cropped_ship.jpg\n",
        "02/14/2014  03:37 PM           863,177 cropped_ship2.jpg\n",
        "02/14/2014  03:50 PM                36 family.csv\n",
        "02/14/2014  03:37 PM             1,606 freight_transport_project.ipynb\n",
        "02/14/2014  03:37 PM               969 git.md\n",
        "02/14/2014  03:37 PM             3,554 john.jpg\n",
        "02/14/2014  03:37 PM            15,581 john_original.jpg\n",
        "02/14/2014  03:37 PM           764,439 john_ship_sketch2.jpg\n",
        "02/14/2014  03:48 PM             4,468 Learning Python.ipynb\n",
        "02/14/2014  03:37 PM            24,628 lego_ship.png\n",
        "02/14/2014  03:37 PM             2,371 README.md\n",
        "02/14/2014  03:37 PM           244,538 shipping_route.png\n",
        "02/14/2014  03:37 PM             8,900 Times Table.ipynb\n",
        "              16 File(s)      2,664,207 bytes\n",
        "               3 Dir(s)  16,898,617,344 bytes free\n"
       ]
      }
     ],
     "prompt_number": 21
    },
    {
     "cell_type": "code",
     "collapsed": false,
     "input": [
      "def older(person1, person2):\n",
      "    if person1['age'] > person2['age']:\n",
      "        old, young = person1, person2\n",
      "    else:\n",
      "        old, young = person2, person1\n",
      "    print old['name'], 'who is', old['age'], 'is older than', young['name'], 'who is', young['age'], '.'     "
     ],
     "language": "python",
     "metadata": {},
     "outputs": [],
     "prompt_number": 23
    },
    {
     "cell_type": "code",
     "collapsed": false,
     "input": [
      "older(j, m)\n",
      "older(j, p)"
     ],
     "language": "python",
     "metadata": {},
     "outputs": [
      {
       "output_type": "stream",
       "stream": "stdout",
       "text": [
        "John who is 11 is older than Madeline who is 9\n",
        "Peter who is 54 is older than John who is 11\n"
       ]
      }
     ],
     "prompt_number": 33
    }
   ],
   "metadata": {}
  }
 ]
}