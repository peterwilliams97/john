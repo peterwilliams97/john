{
 "metadata": {
  "name": ""
 },
 "nbformat": 3,
 "nbformat_minor": 0,
 "worksheets": [
  {
   "cells": [
    {
     "cell_type": "markdown",
     "metadata": {},
     "source": [
      "This is an __IPython notebook__. \n",
      "\n",
      "You can view it online at http://nbviewer.ipython.org/github/peterwilliams97/john/blob/master/Learning%20Python.ipynb\n",
      "\n",
      "Instructions for setting it up are at https://github.com/peterwilliams97/john"
     ]
    },
    {
     "cell_type": "markdown",
     "metadata": {},
     "source": [
      "----\n",
      "###Start playing with Python here!\n",
      "Try assigning text to Python variables.\n",
      "\n",
      "* _name_ is a Python variable\n",
      "* `'John'` is some text\n",
      "\n",
      "You can perform operations on the variable _name_. e.g. Print a message containing _name._"
     ]
    },
    {
     "cell_type": "code",
     "collapsed": false,
     "input": [
      "name = 'John'\n",
      "print 'Hello', name"
     ],
     "language": "python",
     "metadata": {},
     "outputs": [
      {
       "output_type": "stream",
       "stream": "stdout",
       "text": [
        "Hello John\n"
       ]
      }
     ],
     "prompt_number": 22
    },
    {
     "cell_type": "code",
     "collapsed": false,
     "input": [
      "name = 'John'\n",
      "print 'Hello', name"
     ],
     "language": "python",
     "metadata": {},
     "outputs": [
      {
       "output_type": "stream",
       "stream": "stdout",
       "text": [
        "Hello John\n"
       ]
      }
     ],
     "prompt_number": 22
    },
    {
     "cell_type": "code",
     "collapsed": false,
     "input": [
      "name = 'Dad'\n",
      "print 'Hello', name, '!!!!!'"
     ],
     "language": "python",
     "metadata": {},
     "outputs": [
      {
       "output_type": "stream",
       "stream": "stdout",
       "text": [
        "Hello Dad !!!!!\n"
       ]
      }
     ],
     "prompt_number": 27
    },
    {
     "cell_type": "markdown",
     "metadata": {},
     "source": [
      "Iterate through a list of names"
     ]
    },
    {
     "cell_type": "code",
     "collapsed": false,
     "input": [
      "for name in ['Madeline', 'Mum']:\n",
      "    print 'Hello', name"
     ],
     "language": "python",
     "metadata": {},
     "outputs": [
      {
       "output_type": "stream",
       "stream": "stdout",
       "text": [
        "Hello Madeline\n",
        "Hello Mum\n"
       ]
      }
     ],
     "prompt_number": 3
    },
    {
     "cell_type": "markdown",
     "metadata": {},
     "source": [
      "Write a Python function to say `Hello`."
     ]
    },
    {
     "cell_type": "code",
     "collapsed": false,
     "input": [
      "def hello(name):\n",
      "    print 'Hello', name"
     ],
     "language": "python",
     "metadata": {},
     "outputs": [],
     "prompt_number": 4
    },
    {
     "cell_type": "code",
     "collapsed": false,
     "input": [
      "hello('Madeline')\n",
      "hello('Mum')"
     ],
     "language": "python",
     "metadata": {},
     "outputs": [
      {
       "output_type": "stream",
       "stream": "stdout",
       "text": [
        "Hello Madeline\n",
        "Hello Mum\n"
       ]
      }
     ],
     "prompt_number": 5
    },
    {
     "cell_type": "markdown",
     "metadata": {},
     "source": [
      "Iterate through a list of names"
     ]
    },
    {
     "cell_type": "code",
     "collapsed": false,
     "input": [
      "for name in ['Madeline', 'Molly', 'Mum']:\n",
      "    hello(name)"
     ],
     "language": "python",
     "metadata": {},
     "outputs": [
      {
       "output_type": "stream",
       "stream": "stdout",
       "text": [
        "Hello Madeline\n",
        "Hello Molly\n",
        "Hello Mum\n"
       ]
      }
     ],
     "prompt_number": 6
    },
    {
     "cell_type": "markdown",
     "metadata": {},
     "source": [
      "Write some more functions.\n",
      "\n",
      "_make_person()_ creates an object that has information about a person. In this case it has a name and an age.\n",
      "\n",
      "_describe()_ takes an object created by _make_person()_ and prints out a description of the object"
     ]
    },
    {
     "cell_type": "code",
     "collapsed": false,
     "input": [
      "def make_person(name='UNKNOWN NAME', age=-1):\n",
      "    return {'name': name, 'age': age}\n",
      "\n",
      "def describe(person):\n",
      "    print person['name'], 'is', person['age'], 'years old' "
     ],
     "language": "python",
     "metadata": {},
     "outputs": [],
     "prompt_number": 45
    },
    {
     "cell_type": "markdown",
     "metadata": {},
     "source": [
      "Create some _person_ objects. Give them one letter names: _j_, _m_, _c_ and _p_.\n",
      "\n",
      "Show the _j_ and _m_ objects in Python"
     ]
    },
    {
     "cell_type": "code",
     "collapsed": false,
     "input": [
      "m = make_person('Madeline', 9)\n",
      "c = make_person('Catherine', 46)\n",
      "j = make_person('John', 11)\n",
      "p = make_person('Peter', 54)\n",
      "\n",
      "j, m"
     ],
     "language": "python",
     "metadata": {},
     "outputs": [
      {
       "metadata": {},
       "output_type": "pyout",
       "prompt_number": 8,
       "text": [
        "({'age': 11, 'name': 'John'}, {'age': 9, 'name': 'Madeline'})"
       ]
      }
     ],
     "prompt_number": 8
    },
    {
     "cell_type": "markdown",
     "metadata": {},
     "source": [
      "Run the _describe()_ function on the _j_ and _m_ objects."
     ]
    },
    {
     "cell_type": "markdown",
     "metadata": {},
     "source": [
      "describe(j)\n",
      "describe(m)"
     ]
    },
    {
     "cell_type": "markdown",
     "metadata": {},
     "source": [
      "_born()_ is a function that tells when the person was born"
     ]
    },
    {
     "cell_type": "code",
     "collapsed": false,
     "input": [
      "def born(person):\n",
      "   print person['name'], 'was born in', 2013 - person['age']      "
     ],
     "language": "python",
     "metadata": {},
     "outputs": [],
     "prompt_number": 10
    },
    {
     "cell_type": "code",
     "collapsed": false,
     "input": [
      "born(j)\n",
      "born(m)\n",
      "born(c)\n",
      "born(p)"
     ],
     "language": "python",
     "metadata": {},
     "outputs": [
      {
       "output_type": "stream",
       "stream": "stdout",
       "text": [
        "John was born in 2002\n",
        "Madeline was born in 2004\n",
        "Catherine was born in 1967\n",
        "Peter was born in 1959\n"
       ]
      }
     ],
     "prompt_number": 11
    },
    {
     "cell_type": "markdown",
     "metadata": {},
     "source": [
      "---\n",
      "###Pandas\n",
      "\n",
      "Create a pandas table for _j_, _m_, _c_ and _p_. Call it _family_."
     ]
    },
    {
     "cell_type": "code",
     "collapsed": false,
     "input": [
      "import pandas as pd\n",
      "family = pd.DataFrame([j, m, c, p])\n",
      "family"
     ],
     "language": "python",
     "metadata": {},
     "outputs": [
      {
       "html": [
        "<div style=\"max-height:1000px;max-width:1500px;overflow:auto;\">\n",
        "<table border=\"1\" class=\"dataframe\">\n",
        "  <thead>\n",
        "    <tr style=\"text-align: right;\">\n",
        "      <th></th>\n",
        "      <th>age</th>\n",
        "      <th>name</th>\n",
        "    </tr>\n",
        "  </thead>\n",
        "  <tbody>\n",
        "    <tr>\n",
        "      <th>0</th>\n",
        "      <td> 11</td>\n",
        "      <td>      John</td>\n",
        "    </tr>\n",
        "    <tr>\n",
        "      <th>1</th>\n",
        "      <td>  9</td>\n",
        "      <td>  Madeline</td>\n",
        "    </tr>\n",
        "    <tr>\n",
        "      <th>2</th>\n",
        "      <td> 46</td>\n",
        "      <td> Catherine</td>\n",
        "    </tr>\n",
        "    <tr>\n",
        "      <th>3</th>\n",
        "      <td> 54</td>\n",
        "      <td>     Peter</td>\n",
        "    </tr>\n",
        "  </tbody>\n",
        "</table>\n",
        "<p>4 rows \u00d7 2 columns</p>\n",
        "</div>"
       ],
       "metadata": {},
       "output_type": "pyout",
       "prompt_number": 12,
       "text": [
        "   age       name\n",
        "0   11       John\n",
        "1    9   Madeline\n",
        "2   46  Catherine\n",
        "3   54      Peter\n",
        "\n",
        "[4 rows x 2 columns]"
       ]
      }
     ],
     "prompt_number": 12
    },
    {
     "cell_type": "markdown",
     "metadata": {},
     "source": [
      "Save the _family_ table as an Excel spreadsheet"
     ]
    },
    {
     "cell_type": "code",
     "collapsed": false,
     "input": [
      "family.to_csv('family.csv')"
     ],
     "language": "python",
     "metadata": {},
     "outputs": [],
     "prompt_number": 13
    },
    {
     "cell_type": "markdown",
     "metadata": {},
     "source": [
      "Look at where the `family.csv` file is on the computer"
     ]
    },
    {
     "cell_type": "code",
     "collapsed": false,
     "input": [
      "#ls"
     ],
     "language": "python",
     "metadata": {},
     "outputs": [],
     "prompt_number": 31
    },
    {
     "cell_type": "markdown",
     "metadata": {},
     "source": [
      "Put younger people higher in the _family_ table."
     ]
    },
    {
     "cell_type": "code",
     "collapsed": false,
     "input": [
      "family.sort(columns=['age'])"
     ],
     "language": "python",
     "metadata": {},
     "outputs": [
      {
       "html": [
        "<div style=\"max-height:1000px;max-width:1500px;overflow:auto;\">\n",
        "<table border=\"1\" class=\"dataframe\">\n",
        "  <thead>\n",
        "    <tr style=\"text-align: right;\">\n",
        "      <th></th>\n",
        "      <th>age</th>\n",
        "      <th>name</th>\n",
        "    </tr>\n",
        "  </thead>\n",
        "  <tbody>\n",
        "    <tr>\n",
        "      <th>1</th>\n",
        "      <td>  9</td>\n",
        "      <td>  Madeline</td>\n",
        "    </tr>\n",
        "    <tr>\n",
        "      <th>0</th>\n",
        "      <td> 11</td>\n",
        "      <td>      John</td>\n",
        "    </tr>\n",
        "    <tr>\n",
        "      <th>2</th>\n",
        "      <td> 46</td>\n",
        "      <td> Catherine</td>\n",
        "    </tr>\n",
        "    <tr>\n",
        "      <th>3</th>\n",
        "      <td> 54</td>\n",
        "      <td>     Peter</td>\n",
        "    </tr>\n",
        "  </tbody>\n",
        "</table>\n",
        "<p>4 rows \u00d7 2 columns</p>\n",
        "</div>"
       ],
       "metadata": {},
       "output_type": "pyout",
       "prompt_number": 15,
       "text": [
        "   age       name\n",
        "1    9   Madeline\n",
        "0   11       John\n",
        "2   46  Catherine\n",
        "3   54      Peter\n",
        "\n",
        "[4 rows x 2 columns]"
       ]
      }
     ],
     "prompt_number": 15
    },
    {
     "cell_type": "markdown",
     "metadata": {},
     "source": [
      "Put people who names come earlier in the alphabet higher in the _family_ table"
     ]
    },
    {
     "cell_type": "code",
     "collapsed": false,
     "input": [
      "family.sort(columns=['name'])"
     ],
     "language": "python",
     "metadata": {},
     "outputs": [
      {
       "html": [
        "<div style=\"max-height:1000px;max-width:1500px;overflow:auto;\">\n",
        "<table border=\"1\" class=\"dataframe\">\n",
        "  <thead>\n",
        "    <tr style=\"text-align: right;\">\n",
        "      <th></th>\n",
        "      <th>age</th>\n",
        "      <th>name</th>\n",
        "    </tr>\n",
        "  </thead>\n",
        "  <tbody>\n",
        "    <tr>\n",
        "      <th>2</th>\n",
        "      <td> 46</td>\n",
        "      <td> Catherine</td>\n",
        "    </tr>\n",
        "    <tr>\n",
        "      <th>0</th>\n",
        "      <td> 11</td>\n",
        "      <td>      John</td>\n",
        "    </tr>\n",
        "    <tr>\n",
        "      <th>1</th>\n",
        "      <td>  9</td>\n",
        "      <td>  Madeline</td>\n",
        "    </tr>\n",
        "    <tr>\n",
        "      <th>3</th>\n",
        "      <td> 54</td>\n",
        "      <td>     Peter</td>\n",
        "    </tr>\n",
        "  </tbody>\n",
        "</table>\n",
        "<p>4 rows \u00d7 2 columns</p>\n",
        "</div>"
       ],
       "metadata": {},
       "output_type": "pyout",
       "prompt_number": 16,
       "text": [
        "   age       name\n",
        "2   46  Catherine\n",
        "0   11       John\n",
        "1    9   Madeline\n",
        "3   54      Peter\n",
        "\n",
        "[4 rows x 2 columns]"
       ]
      }
     ],
     "prompt_number": 16
    },
    {
     "cell_type": "markdown",
     "metadata": {},
     "source": [
      "-------\n",
      "A more complex Python function\n",
      "\n",
      "Can you tell what it does?"
     ]
    },
    {
     "cell_type": "code",
     "collapsed": false,
     "input": [
      "def older(person1, person2):\n",
      "    # old is the older of person1 and person2\n",
      "    # young is the younger of person1 and person2\n",
      "    if person1['age'] > person2['age']:\n",
      "        old, young = person1, person2\n",
      "    else:\n",
      "        old, young = person2, person1\n",
      "        \n",
      "    # Print out a description of who is older     \n",
      "    print old['name'], 'who is', old['age'], 'is older than', young['name'], 'who is', young['age'], '.'     "
     ],
     "language": "python",
     "metadata": {},
     "outputs": [],
     "prompt_number": 17
    },
    {
     "cell_type": "markdown",
     "metadata": {},
     "source": [
      "Run the _older()_ function on _j_ and _m_ then run it on _j_ and _p_."
     ]
    },
    {
     "cell_type": "code",
     "collapsed": false,
     "input": [
      "older(j, m)\n",
      "older(j, p)"
     ],
     "language": "python",
     "metadata": {},
     "outputs": [
      {
       "output_type": "stream",
       "stream": "stdout",
       "text": [
        "John who is 11 is older than Madeline who is 9 .\n",
        "Peter who is 54 is older than John who is 11 .\n"
       ]
      }
     ],
     "prompt_number": 18
    },
    {
     "cell_type": "code",
     "collapsed": false,
     "input": [
      "mo = make_person ('molly',2)\n",
      "bo = make_person ('boo',7)\n",
      "cuteys = pd.DataFrame([mo,bo])\n",
      "cuteys                 "
     ],
     "language": "python",
     "metadata": {},
     "outputs": [
      {
       "html": [
        "<div style=\"max-height:1000px;max-width:1500px;overflow:auto;\">\n",
        "<table border=\"1\" class=\"dataframe\">\n",
        "  <thead>\n",
        "    <tr style=\"text-align: right;\">\n",
        "      <th></th>\n",
        "      <th>age</th>\n",
        "      <th>name</th>\n",
        "    </tr>\n",
        "  </thead>\n",
        "  <tbody>\n",
        "    <tr>\n",
        "      <th>0</th>\n",
        "      <td> 2</td>\n",
        "      <td> molly</td>\n",
        "    </tr>\n",
        "    <tr>\n",
        "      <th>1</th>\n",
        "      <td> 7</td>\n",
        "      <td>   boo</td>\n",
        "    </tr>\n",
        "  </tbody>\n",
        "</table>\n",
        "<p>2 rows \u00d7 2 columns</p>\n",
        "</div>"
       ],
       "metadata": {},
       "output_type": "pyout",
       "prompt_number": 34,
       "text": [
        "   age   name\n",
        "0    2  molly\n",
        "1    7    boo\n",
        "\n",
        "[2 rows x 2 columns]"
       ]
      }
     ],
     "prompt_number": 34
    },
    {
     "cell_type": "code",
     "collapsed": false,
     "input": [
      "cuteys.to_csv('cuteys.csv')\n",
      "pa = make_person ('panda','unknown')\n",
      "cuteys = pd.DataFrame ([mo,bo,pa])\n",
      "cuteys\n",
      "uni = make_person ('unikitty','unknown')\n",
      "cuteys = pd.DataFrame ([mo,bo,pa,uni])\n",
      "cuteys\n"
     ],
     "language": "python",
     "metadata": {},
     "outputs": [
      {
       "html": [
        "<div style=\"max-height:1000px;max-width:1500px;overflow:auto;\">\n",
        "<table border=\"1\" class=\"dataframe\">\n",
        "  <thead>\n",
        "    <tr style=\"text-align: right;\">\n",
        "      <th></th>\n",
        "      <th>age</th>\n",
        "      <th>name</th>\n",
        "    </tr>\n",
        "  </thead>\n",
        "  <tbody>\n",
        "    <tr>\n",
        "      <th>0</th>\n",
        "      <td>       2</td>\n",
        "      <td>    molly</td>\n",
        "    </tr>\n",
        "    <tr>\n",
        "      <th>1</th>\n",
        "      <td>       7</td>\n",
        "      <td>      boo</td>\n",
        "    </tr>\n",
        "    <tr>\n",
        "      <th>2</th>\n",
        "      <td> unknown</td>\n",
        "      <td>    panda</td>\n",
        "    </tr>\n",
        "    <tr>\n",
        "      <th>3</th>\n",
        "      <td> unknown</td>\n",
        "      <td> unikitty</td>\n",
        "    </tr>\n",
        "  </tbody>\n",
        "</table>\n",
        "<p>4 rows \u00d7 2 columns</p>\n",
        "</div>"
       ],
       "metadata": {},
       "output_type": "pyout",
       "prompt_number": 54,
       "text": [
        "       age      name\n",
        "0        2     molly\n",
        "1        7       boo\n",
        "2  unknown     panda\n",
        "3  unknown  unikitty\n",
        "\n",
        "[4 rows x 2 columns]"
       ]
      }
     ],
     "prompt_number": 54
    },
    {
     "cell_type": "code",
     "collapsed": false,
     "input": [
      "print ('Hello world!')\n",
      "print ('What is your name?')\n",
      "john = raw_input()\n",
      "print ('It is good to meet you, ' + john)\n",
      "#john = make_person ('john')\n",
      "#john"
     ],
     "language": "python",
     "metadata": {},
     "outputs": [
      {
       "output_type": "stream",
       "stream": "stdout",
       "text": [
        "Hello world!\n",
        "What is your name?\n"
       ]
      },
      {
       "name": "stdout",
       "output_type": "stream",
       "stream": "stdout",
       "text": [
        "mum\n"
       ]
      },
      {
       "output_type": "stream",
       "stream": "stdout",
       "text": [
        "It is good to meet you, mum\n"
       ]
      }
     ],
     "prompt_number": 53
    },
    {
     "cell_type": "code",
     "collapsed": false,
     "input": [],
     "language": "python",
     "metadata": {},
     "outputs": []
    }
   ],
   "metadata": {}
  }
 ]
}