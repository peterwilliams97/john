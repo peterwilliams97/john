{
 "metadata": {
  "name": ""
 },
 "nbformat": 3,
 "nbformat_minor": 0,
 "worksheets": [
  {
   "cells": [
    {
     "cell_type": "markdown",
     "metadata": {},
     "source": [
      "This is an __IPython notebook__. \n",
      "\n",
      "You can view it online at http://nbviewer.ipython.org/github/peterwilliams97/john/blob/master/Learning%20Python.ipynb\n",
      "\n",
      "Instructions for setting it up are at https://github.com/peterwilliams97/john"
     ]
    },
    {
     "cell_type": "markdown",
     "metadata": {},
     "source": [
      "----\n",
      "###Start playing with Python here!\n",
      "Try assigning text to Python variables.\n",
      "\n",
      "* _name_ is a Python variable\n",
      "* `'John'` is some text\n",
      "\n",
      "You can perform operations on the variable _name_. e.g. Print a message containing _name._"
     ]
    },
    {
     "cell_type": "code",
     "collapsed": false,
     "input": [
      "name = 'John'\n",
      "print 'Hello', name"
     ],
     "language": "python",
     "metadata": {},
     "outputs": [
      {
       "output_type": "stream",
       "stream": "stdout",
       "text": [
        "Hello John\n"
       ]
      }
     ],
     "prompt_number": 19
    },
    {
     "cell_type": "code",
     "collapsed": false,
     "input": [
      "name = 'Peter'\n",
      "print 'Hello', name"
     ],
     "language": "python",
     "metadata": {},
     "outputs": [
      {
       "output_type": "stream",
       "stream": "stdout",
       "text": [
        "Hello Peter\n"
       ]
      }
     ],
     "prompt_number": 20
    },
    {
     "cell_type": "markdown",
     "metadata": {},
     "source": [
      "Iterate through a list of names"
     ]
    },
    {
     "cell_type": "code",
     "collapsed": false,
     "input": [
      "for name in ['Madeline', 'Mum']:\n",
      "    print 'Hello', name"
     ],
     "language": "python",
     "metadata": {},
     "outputs": [
      {
       "output_type": "stream",
       "stream": "stdout",
       "text": [
        "Hello Madeline\n",
        "Hello Mum\n"
       ]
      }
     ],
     "prompt_number": 21
    },
    {
     "cell_type": "markdown",
     "metadata": {},
     "source": [
      "Write a Python function to say `Hello`."
     ]
    },
    {
     "cell_type": "code",
     "collapsed": false,
     "input": [
      "def hello(name):\n",
      "    print 'Hello', name"
     ],
     "language": "python",
     "metadata": {},
     "outputs": [],
     "prompt_number": 22
    },
    {
     "cell_type": "code",
     "collapsed": false,
     "input": [
      "hello('Madeline')\n",
      "hello('Mum')"
     ],
     "language": "python",
     "metadata": {},
     "outputs": [
      {
       "output_type": "stream",
       "stream": "stdout",
       "text": [
        "Hello Madeline\n",
        "Hello Mum\n"
       ]
      }
     ],
     "prompt_number": 23
    },
    {
     "cell_type": "markdown",
     "metadata": {},
     "source": [
      "Iterate through a list of names"
     ]
    },
    {
     "cell_type": "code",
     "collapsed": false,
     "input": [
      "for name in ['Madeline', 'Molly', 'Mum']:\n",
      "    hello(name)"
     ],
     "language": "python",
     "metadata": {},
     "outputs": [
      {
       "output_type": "stream",
       "stream": "stdout",
       "text": [
        "Hello Madeline\n",
        "Hello Molly\n",
        "Hello Mum\n"
       ]
      }
     ],
     "prompt_number": 24
    },
    {
     "cell_type": "markdown",
     "metadata": {},
     "source": [
      "Write some more functions.\n",
      "\n",
      "_make_person()_ creates an object that has information about a person. In this case it has a name and an age.\n",
      "\n",
      "_describe()_ takes an object created by _make_person()_ and prints out a description of the object"
     ]
    },
    {
     "cell_type": "code",
     "collapsed": false,
     "input": [
      "def make_person(name, age):\n",
      "    return {'name': name, 'age': age}\n",
      "\n",
      "def describe(person):\n",
      "    print person['name'], 'is', person['age'], 'years old' "
     ],
     "language": "python",
     "metadata": {},
     "outputs": [],
     "prompt_number": 25
    },
    {
     "cell_type": "markdown",
     "metadata": {},
     "source": [
      "Create some _person_ objects. Give them one letter names.\n",
      "\n",
      "Show the _j_ and _m_ objects in Python"
     ]
    },
    {
     "cell_type": "code",
     "collapsed": false,
     "input": [
      "j = make_person('John', 11)\n",
      "m = make_person('Madeline', 9)\n",
      "c = make_person('Catherine', 47)\n",
      "p = make_person('Peter', 54)\n",
      "\n",
      "j, m"
     ],
     "language": "python",
     "metadata": {},
     "outputs": [
      {
       "metadata": {},
       "output_type": "pyout",
       "prompt_number": 26,
       "text": [
        "({'age': 11, 'name': 'John'}, {'age': 9, 'name': 'Madeline'})"
       ]
      }
     ],
     "prompt_number": 26
    },
    {
     "cell_type": "markdown",
     "metadata": {},
     "source": [
      "Run the _describe()_ function on the _j_ and _m_ objects."
     ]
    },
    {
     "cell_type": "code",
     "collapsed": false,
     "input": [
      "describe(j)\n",
      "describe(m)"
     ],
     "language": "python",
     "metadata": {},
     "outputs": [
      {
       "output_type": "stream",
       "stream": "stdout",
       "text": [
        "John is 11 years old\n",
        "Madeline is 9 years old\n"
       ]
      }
     ],
     "prompt_number": 27
    },
    {
     "cell_type": "markdown",
     "metadata": {},
     "source": [
      "_born()_ is a function that tells when the person was born"
     ]
    },
    {
     "cell_type": "code",
     "collapsed": false,
     "input": [
      "def born(person):\n",
      "   print person['name'], 'was born in', 2013 - person['age']      "
     ],
     "language": "python",
     "metadata": {},
     "outputs": [],
     "prompt_number": 28
    },
    {
     "cell_type": "code",
     "collapsed": false,
     "input": [
      "born(j)\n",
      "born(m)\n",
      "born(c)\n",
      "born(p)"
     ],
     "language": "python",
     "metadata": {},
     "outputs": [
      {
       "output_type": "stream",
       "stream": "stdout",
       "text": [
        "John was born in 2002\n",
        "Madeline was born in 2004\n",
        "Catherine was born in 1966\n",
        "Peter was born in 1959\n"
       ]
      }
     ],
     "prompt_number": 37
    },
    {
     "cell_type": "markdown",
     "metadata": {},
     "source": [
      "---\n",
      "###Pandas\n",
      "\n",
      "Create a pandas table for _j_, _m_, _c_ and _p_. Call it _family_."
     ]
    },
    {
     "cell_type": "code",
     "collapsed": false,
     "input": [
      "import pandas as pd\n",
      "family = pd.DataFrame([j, m, c, p])\n",
      "family"
     ],
     "language": "python",
     "metadata": {},
     "outputs": [
      {
       "html": [
        "<div style=\"max-height:1000px;max-width:1500px;overflow:auto;\">\n",
        "<table border=\"1\" class=\"dataframe\">\n",
        "  <thead>\n",
        "    <tr style=\"text-align: right;\">\n",
        "      <th></th>\n",
        "      <th>age</th>\n",
        "      <th>name</th>\n",
        "    </tr>\n",
        "  </thead>\n",
        "  <tbody>\n",
        "    <tr>\n",
        "      <th>0</th>\n",
        "      <td> 11</td>\n",
        "      <td>      John</td>\n",
        "    </tr>\n",
        "    <tr>\n",
        "      <th>1</th>\n",
        "      <td>  9</td>\n",
        "      <td>  Madeline</td>\n",
        "    </tr>\n",
        "    <tr>\n",
        "      <th>2</th>\n",
        "      <td> 47</td>\n",
        "      <td> Catherine</td>\n",
        "    </tr>\n",
        "    <tr>\n",
        "      <th>3</th>\n",
        "      <td> 54</td>\n",
        "      <td>     Peter</td>\n",
        "    </tr>\n",
        "  </tbody>\n",
        "</table>\n",
        "<p>4 rows \u00d7 2 columns</p>\n",
        "</div>"
       ],
       "metadata": {},
       "output_type": "pyout",
       "prompt_number": 30,
       "text": [
        "   age       name\n",
        "0   11       John\n",
        "1    9   Madeline\n",
        "2   47  Catherine\n",
        "3   54      Peter\n",
        "\n",
        "[4 rows x 2 columns]"
       ]
      }
     ],
     "prompt_number": 30
    },
    {
     "cell_type": "markdown",
     "metadata": {},
     "source": [
      "Save the _family_ table as an Excel spreadsheet"
     ]
    },
    {
     "cell_type": "code",
     "collapsed": false,
     "input": [
      "family.to_csv('family.csv')"
     ],
     "language": "python",
     "metadata": {},
     "outputs": [],
     "prompt_number": 31
    },
    {
     "cell_type": "markdown",
     "metadata": {},
     "source": [
      "Look at where the `family.csv` file is on the computer"
     ]
    },
    {
     "cell_type": "code",
     "collapsed": false,
     "input": [
      "ls\n"
     ],
     "language": "python",
     "metadata": {},
     "outputs": [
      {
       "output_type": "stream",
       "stream": "stdout",
       "text": [
        " Volume in drive D is New Volume\n",
        " Volume Serial Number is 600C-C0FE\n",
        "\n",
        " Directory of D:\\John\n",
        "\n",
        "02/14/2014  09:28 PM    <DIR>          .\n",
        "02/14/2014  09:28 PM    <DIR>          ..\n",
        "02/14/2014  09:15 PM    <DIR>          .git\n",
        "05/29/2013  08:25 PM               303 .gitignore\n",
        "02/14/2014  09:28 PM    <DIR>          .ipynb_checkpoints\n",
        "05/29/2013  09:48 PM            70,575 800px-General_cargo_ship_midship_section_english - original.png\n",
        "05/29/2013  10:49 PM            14,846 800px-General_cargo_ship_midship_section_english.png\n",
        "06/02/2013  06:01 PM             3,932 Algebra.ipynb\n",
        "06/02/2013  05:52 PM           710,859 cropped_ship.jpg\n",
        "06/02/2013  05:57 PM           863,177 cropped_ship2.jpg\n",
        "02/14/2014  09:29 PM                64 family.csv\n",
        "02/14/2014  09:15 PM             1,606 freight_transport_project.ipynb\n",
        "06/08/2013  07:56 PM               969 git.md\n",
        "06/08/2013  07:47 PM           244,538 Google Maps - Google Chrome_2013-06-08_18-40-34.png\n",
        "05/29/2013  09:29 PM             3,554 john.jpg\n",
        "05/29/2013  09:27 PM            15,581 john_original.jpg\n",
        "05/30/2013  09:35 PM           686,676 john_ship_sketch.jpg\n",
        "05/30/2013  11:41 PM           764,439 john_ship_sketch2.jpg\n",
        "05/30/2013  11:41 PM           855,680 john_ship_sketch2.png\n",
        "02/14/2014  09:28 PM            16,612 Learning Python.ipynb\n",
        "06/10/2013  03:29 PM            24,628 lego_ship.png\n",
        "06/08/2013  07:56 PM               349 new  2.txt\n",
        "05/30/2013  11:44 PM               873 new_freight_transport_project.ipynb_\n",
        "05/30/2013  09:33 PM           869,723 photo.JPG\n",
        "06/15/2013  03:19 PM             2,293 README.md\n",
        "06/08/2013  07:51 PM           244,538 shipping_route.png\n",
        "05/30/2013  09:32 PM             8,900 Times Table.ipynb\n",
        "05/30/2013  11:41 PM            49,198 Untitled.png\n",
        "              24 File(s)      5,453,913 bytes\n",
        "               4 Dir(s)  484,567,859,200 bytes free\n"
       ]
      }
     ],
     "prompt_number": 32
    },
    {
     "cell_type": "code",
     "collapsed": false,
     "input": [
      "family.sort(columns=['age'])"
     ],
     "language": "python",
     "metadata": {},
     "outputs": [
      {
       "html": [
        "<div style=\"max-height:1000px;max-width:1500px;overflow:auto;\">\n",
        "<table border=\"1\" class=\"dataframe\">\n",
        "  <thead>\n",
        "    <tr style=\"text-align: right;\">\n",
        "      <th></th>\n",
        "      <th>age</th>\n",
        "      <th>name</th>\n",
        "    </tr>\n",
        "  </thead>\n",
        "  <tbody>\n",
        "    <tr>\n",
        "      <th>1</th>\n",
        "      <td>  9</td>\n",
        "      <td>  Madeline</td>\n",
        "    </tr>\n",
        "    <tr>\n",
        "      <th>0</th>\n",
        "      <td> 11</td>\n",
        "      <td>      John</td>\n",
        "    </tr>\n",
        "    <tr>\n",
        "      <th>2</th>\n",
        "      <td> 47</td>\n",
        "      <td> Catherine</td>\n",
        "    </tr>\n",
        "    <tr>\n",
        "      <th>3</th>\n",
        "      <td> 54</td>\n",
        "      <td>     Peter</td>\n",
        "    </tr>\n",
        "  </tbody>\n",
        "</table>\n",
        "<p>4 rows \u00d7 2 columns</p>\n",
        "</div>"
       ],
       "metadata": {},
       "output_type": "pyout",
       "prompt_number": 33,
       "text": [
        "   age       name\n",
        "1    9   Madeline\n",
        "0   11       John\n",
        "2   47  Catherine\n",
        "3   54      Peter\n",
        "\n",
        "[4 rows x 2 columns]"
       ]
      }
     ],
     "prompt_number": 33
    },
    {
     "cell_type": "code",
     "collapsed": false,
     "input": [
      "family.sort(columns=['name'])"
     ],
     "language": "python",
     "metadata": {},
     "outputs": [
      {
       "html": [
        "<div style=\"max-height:1000px;max-width:1500px;overflow:auto;\">\n",
        "<table border=\"1\" class=\"dataframe\">\n",
        "  <thead>\n",
        "    <tr style=\"text-align: right;\">\n",
        "      <th></th>\n",
        "      <th>age</th>\n",
        "      <th>name</th>\n",
        "    </tr>\n",
        "  </thead>\n",
        "  <tbody>\n",
        "    <tr>\n",
        "      <th>2</th>\n",
        "      <td> 47</td>\n",
        "      <td> Catherine</td>\n",
        "    </tr>\n",
        "    <tr>\n",
        "      <th>0</th>\n",
        "      <td> 11</td>\n",
        "      <td>      John</td>\n",
        "    </tr>\n",
        "    <tr>\n",
        "      <th>1</th>\n",
        "      <td>  9</td>\n",
        "      <td>  Madeline</td>\n",
        "    </tr>\n",
        "    <tr>\n",
        "      <th>3</th>\n",
        "      <td> 54</td>\n",
        "      <td>     Peter</td>\n",
        "    </tr>\n",
        "  </tbody>\n",
        "</table>\n",
        "<p>4 rows \u00d7 2 columns</p>\n",
        "</div>"
       ],
       "metadata": {},
       "output_type": "pyout",
       "prompt_number": 34,
       "text": [
        "   age       name\n",
        "2   47  Catherine\n",
        "0   11       John\n",
        "1    9   Madeline\n",
        "3   54      Peter\n",
        "\n",
        "[4 rows x 2 columns]"
       ]
      }
     ],
     "prompt_number": 34
    },
    {
     "cell_type": "markdown",
     "metadata": {},
     "source": [
      "-------\n",
      "A more complex Python function\n",
      "\n",
      "Can you tell what it does?"
     ]
    },
    {
     "cell_type": "code",
     "collapsed": false,
     "input": [
      "def older(person1, person2):\n",
      "    if person1['age'] > person2['age']:\n",
      "        old, young = person1, person2\n",
      "    else:\n",
      "        old, young = person2, person1\n",
      "    print old['name'], 'who is', old['age'], 'is older than', young['name'], 'who is', young['age'], '.'     "
     ],
     "language": "python",
     "metadata": {},
     "outputs": [],
     "prompt_number": 35
    },
    {
     "cell_type": "markdown",
     "metadata": {},
     "source": [
      "Run the _older()_ function on _j_ and _m_ then run it on _j_ and _p_."
     ]
    },
    {
     "cell_type": "code",
     "collapsed": false,
     "input": [
      "older(j, m)\n",
      "older(j, p)"
     ],
     "language": "python",
     "metadata": {},
     "outputs": [
      {
       "output_type": "stream",
       "stream": "stdout",
       "text": [
        "John who is 11 is older than Madeline who is 9 .\n",
        "Peter who is 54 is older than John who is 11 .\n"
       ]
      }
     ],
     "prompt_number": 36
    }
   ],
   "metadata": {}
  }
 ]
}